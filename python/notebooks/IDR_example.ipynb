{
 "cells": [
  {
   "cell_type": "markdown",
   "metadata": {},
   "source": [
    "# Viewing an image from the IDR\n",
    "\n",
    "OME-Zarr is a developing open standard for imaging from the OME community. The Imaging Data Resource (IDR) has provided serveral images in this experimental format which are publically avaiable."
   ]
  },
  {
   "cell_type": "markdown",
   "metadata": {},
   "source": [
    "## Open the remote zarr"
   ]
  },
  {
   "cell_type": "code",
   "execution_count": null,
   "metadata": {},
   "outputs": [],
   "source": [
    "from fsspec import get_mapper\n",
    "import zarr\n",
    "\n",
    "# Create a remote mapping to the data\n",
    "url = \"https://uk1s3.embassy.ebi.ac.uk/idr/zarr/v0.1/6001240.zarr/\"\n",
    "store = get_mapper(url)\n",
    "z_grp = zarr.open(store, mode='r')\n",
    "z_grp"
   ]
  },
  {
   "cell_type": "markdown",
   "metadata": {},
   "source": [
    "##  View with vizarr"
   ]
  },
  {
   "cell_type": "code",
   "execution_count": null,
   "metadata": {
    "scrolled": true
   },
   "outputs": [],
   "source": [
    "from imjoy_plugin import run_vizarr\n",
    "run_vizarr({ \"source\": z_grp })"
   ]
  },
  {
   "cell_type": "markdown",
   "metadata": {},
   "source": [
    "OME-Zarr is a developing community standard. If you like to get involved, more information can be found on [`image.sc`](https://image.sc) and the [`ome-zarr-py`](https://github.com/ome/ome-zarr-py) or [`omero-ms-zarr`](https://github.com/ome/omero-ms-zarr) GitHub repositories."
   ]
  }
 ],
 "metadata": {
  "kernelspec": {
   "display_name": "Python 3",
   "language": "python",
   "name": "python3"
  },
  "language_info": {
   "codemirror_mode": {
    "name": "ipython",
    "version": 3
   },
   "file_extension": ".py",
   "mimetype": "text/x-python",
   "name": "python",
   "nbconvert_exporter": "python",
   "pygments_lexer": "ipython3",
   "version": "3.8.5"
  }
 },
 "nbformat": 4,
 "nbformat_minor": 4
}
