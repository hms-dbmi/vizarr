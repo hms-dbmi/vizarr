{
 "cells": [
  {
   "cell_type": "code",
   "execution_count": null,
   "id": "e9ac663e-a7ed-41c9-9050-2c69b89e7e74",
   "metadata": {},
   "outputs": [],
   "source": [
    "!pip install --quiet zarr scikit-image"
   ]
  },
  {
   "cell_type": "markdown",
   "id": "2c447021",
   "metadata": {},
   "source": [
    "## Affine Transformations\n",
    "\n",
    "Spatial transformations are defined per image layer via a [4x4 transformation matrix](https://www.brainvoyager.com/bv/doc/UsersGuide/CoordsAndTransforms/SpatialTransformationMatrices.html) using the `model_matrix` property.\n",
    "\n",
    "This features is useful for pre-processing (e.g. flipping, rotating, scaling etc) your data, since these operations \n",
    "are executed performantly on the GPU thanks to [Viv](https://github.com/hms-dbmi/viv).\n",
    "\n",
    "In this notebook we will load a simple OME-NGFF dataset from the `Getting Started` notebook and apply a simple rotation."
   ]
  },
  {
   "cell_type": "code",
   "execution_count": null,
   "id": "31b069e3",
   "metadata": {},
   "outputs": [],
   "source": [
    "from create_fixture import create_ome_zarr\n",
    "import zarr\n",
    "import numpy as np\n",
    "\n",
    "import vizarr\n",
    "\n",
    "# creates an example OME-NGFF, see `getting_started.ipynb` for more details\n",
    "create_ome_zarr(\"astronaut.zarr\") \n",
    "\n",
    "# Create a viewer\n",
    "viewer = vizarr.Viewer()\n",
    "\n",
    "astronaut = {\n",
    "    \"source\": zarr.open(\"astronaut.zarr\", mode=\"r\"),\n",
    "    \"name\": \"astronaut\",\n",
    "}\n",
    "\n",
    "noise = {\n",
    "    \"source\": zarr.array(np.random.randint(0, 255, (1024, 1024), dtype=np.uint8)),\n",
    "    \"opacity\": 0.8,\n",
    "    \"name\": \"noise\",\n",
    "}\n",
    "\n",
    "viewer.add_image(**astronaut)\n",
    "viewer.add_image(**noise)\n",
    "viewer"
   ]
  },
  {
   "cell_type": "markdown",
   "id": "50cc6192",
   "metadata": {},
   "source": [
    "### Apply translation and rotation to `noise` layer"
   ]
  },
  {
   "cell_type": "code",
   "execution_count": null,
   "id": "e967d280",
   "metadata": {},
   "outputs": [],
   "source": [
    "M = np.eye(4)\n",
    "\n",
    "# rotation\n",
    "theta = np.pi / 4\n",
    "M[:3, :3] = np.array([\n",
    "    [ np.cos(theta),  np.sin(theta), 0],\n",
    "    [-np.sin(theta),  np.cos(theta), 0],\n",
    "    [             0,              0, 1],\n",
    "])\n",
    "\n",
    "# translation\n",
    "M[:3,3] = np.array([512, 512, 0])\n",
    "\n",
    "M"
   ]
  },
  {
   "cell_type": "code",
   "execution_count": null,
   "id": "6ffbea5e",
   "metadata": {},
   "outputs": [],
   "source": [
    "translated_noise = { **noise, **{\"model_matrix\": M.ravel().tolist() } } # need to ravel into 1D list\n",
    "\n",
    "v = vizarr.Viewer()\n",
    "v.add_image(**astronaut)\n",
    "v.add_image(**translated_noise)\n",
    "v"
   ]
  },
  {
   "cell_type": "code",
   "execution_count": null,
   "id": "ff64b992",
   "metadata": {},
   "outputs": [],
   "source": []
  }
 ],
 "metadata": {
  "kernelspec": {
   "display_name": "Python 3 (ipykernel)",
   "language": "python",
   "name": "python3"
  },
  "language_info": {
   "codemirror_mode": {
    "name": "ipython",
    "version": 3
   },
   "file_extension": ".py",
   "mimetype": "text/x-python",
   "name": "python",
   "nbconvert_exporter": "python",
   "pygments_lexer": "ipython3",
   "version": "3.12.3"
  },
  "widgets": {
   "application/vnd.jupyter.widget-state+json": {
    "state": {},
    "version_major": 2,
    "version_minor": 0
   }
  }
 },
 "nbformat": 4,
 "nbformat_minor": 5
}
