{
 "cells": [
  {
   "cell_type": "markdown",
   "metadata": {},
   "source": [
    "# Hello, `vizarr`\n",
    "\n",
    "This example explains the basic usage of `vizarr` as an Imjoy Plugin in a jupyter notebook. "
   ]
  },
  {
   "cell_type": "markdown",
   "metadata": {},
   "source": [
    "### Create a multiscale OME-Zarr\n",
    "\n",
    "The easiest way to use `vizarr` in a jupyter notebook is to have an OME-Zarr compliant image. OME-Zarr is a developing standard from the OME-Community and currently considered experimental as it is under active development. The specification can be found [here](https://github.com/ome/omero-ms-zarr/blob/master/spec.md). \n",
    " \n",
    "Creating an OME-Zarr for your own images can be accomplished by using Bio-Formats, `bioformats2raw` with the `--file_type=zarr --dimension-order=XYZCT` options and adding `omero` metadata to the root attrs of the resulting multiscale group. \n",
    "\n",
    "For convenience, we have included a simple function to create a multiscale OME-Zarr below."
   ]
  },
  {
   "cell_type": "code",
   "execution_count": null,
   "metadata": {},
   "outputs": [],
   "source": [
    "from create_fixture import create_ome_zarr\n",
    "create_ome_zarr(\"astronaut.zarr\") # creates an example OME-Zarr in the current directory"
   ]
  },
  {
   "cell_type": "markdown",
   "metadata": {},
   "source": [
    "### Open OME-Zarr in jupyter with `zarr-python`\n",
    "\n",
    "The root of an OME-Zarr is a group that aheres to the `multiscales` zarr extension (if pyramidal) and also contains `omero` metadata describing _how_ to render the image. Here we open the OME-Zarr as a `zarr.Group` using `zarr-python`. "
   ]
  },
  {
   "cell_type": "code",
   "execution_count": null,
   "metadata": {},
   "outputs": [],
   "source": [
    "import zarr\n",
    "multiscale_astronaut = zarr.open(\"astronaut.zarr\", mode=\"r\") # open the zarr created above in jupyter kernel"
   ]
  },
  {
   "cell_type": "markdown",
   "metadata": {},
   "source": [
    "### Create `vizarr` image and view via Imjoy Plugin\n",
    "\n",
    "A `vizarr` image is simply a python dictionary specifying how to initially render the zarr-based store in the viewer. The `source` field must be a `zarr.Array` or `zarr.Group`. If the `zarr.Group` is for an OME-Zarr, `source` is the only required field. If it is an `zarr.Array` or `zarr.Group` that is not OME-Zarr, additional fields are required for rendering (described below)."
   ]
  },
  {
   "cell_type": "code",
   "execution_count": null,
   "metadata": {
    "scrolled": true
   },
   "outputs": [],
   "source": [
    "from imjoy_plugin import run_vizarr\n",
    "\n",
    "# Create Zarr \n",
    "astronaut_img = { \"source\": multiscale_astronaut }\n",
    "\n",
    "# Run vizarr\n",
    "run_vizarr(astronaut_img)"
   ]
  },
  {
   "cell_type": "markdown",
   "metadata": {},
   "source": [
    "### Create a generic array layer\n",
    "\n",
    "`vizarr` also supports custom `zarr.Array` and `zarr.Group`s, but requires additional metadata to render. Viewing a custom `zarr` has the following requirements:\n",
    "\n",
    "- The last two dimensions of the `zarr.Array` must be `YX`.\n",
    "- If an `zarr.Array` has more than 2D dimensions, non-YX axis much have a `chunksize` of `1`.\n",
    "- If a `zarr.Group` is provided, it must implement the `multiscales` specification and subresolution arrays must adhere to the same `zarr.Array` requirements outlined above."
   ]
  },
  {
   "cell_type": "code",
   "execution_count": null,
   "metadata": {},
   "outputs": [],
   "source": [
    "import numpy as np\n",
    "\n",
    "# Create in-memory numpy array\n",
    "arr = np.random.randint(0, 255, (1, 1024, 1024), dtype=np.uint8)\n",
    "\n",
    "# Wrap array as `zarr.Array`\n",
    "z_zarr = zarr.array(arr)\n",
    "\n",
    "# Create a vizarr image from custom zarr.Array\n",
    "noise = {\n",
    "    \"source\": zarr.array(arr), \n",
    "    \"dimensions\": \"cyx\", # if not OME-Zarr, need to label dimensions for array\n",
    "    # Manually define list of 2D panes to additively blend\n",
    "    \"channels\": [{ \n",
    "        \"selection\": { \"c\": 0 },     # required, defines indexing along non-XY axes to get 2D pane\n",
    "        \"contrast_limits\": [0, 255], # optional (but recommended), defaults to min/max of dtype\n",
    "        \"color\": \"#FFFFFF\",          # optional, default is #FFFFFF\n",
    "        \"label\": \"channel_0\",        # optional, default channel_x\n",
    "    }],\n",
    "    \"opacity\": 0.5,   # optional, default 1\n",
    "    \"name\": \"noise\",  # optional, default image_x\n",
    "}"
   ]
  },
  {
   "cell_type": "markdown",
   "metadata": {},
   "source": [
    "### View multiple images\n",
    "\n",
    "`run_vizarr` takes a list of images which can be viewed in the same interactive scene as different image layers."
   ]
  },
  {
   "cell_type": "code",
   "execution_count": null,
   "metadata": {
    "scrolled": false
   },
   "outputs": [],
   "source": [
    "run_vizarr([astronaut_img, noise])"
   ]
  },
  {
   "cell_type": "markdown",
   "metadata": {},
   "source": [
    "### Set initial view state\n",
    "\n",
    "The initial view state can be defined as a second argument for `run_vizarr` as well, but is optional."
   ]
  },
  {
   "cell_type": "code",
   "execution_count": null,
   "metadata": {},
   "outputs": [],
   "source": [
    "run_vizarr([astronaut_img, noise], view_state={ \"zoom\": -3, \"target\": [512, 512, 0] })"
   ]
  },
  {
   "cell_type": "code",
   "execution_count": null,
   "metadata": {},
   "outputs": [],
   "source": []
  }
 ],
 "metadata": {
  "kernelspec": {
   "display_name": "Python 3",
   "language": "python",
   "name": "python3"
  },
  "language_info": {
   "codemirror_mode": {
    "name": "ipython",
    "version": 3
   },
   "file_extension": ".py",
   "mimetype": "text/x-python",
   "name": "python",
   "nbconvert_exporter": "python",
   "pygments_lexer": "ipython3",
   "version": "3.8.3"
  }
 },
 "nbformat": 4,
 "nbformat_minor": 4
}
