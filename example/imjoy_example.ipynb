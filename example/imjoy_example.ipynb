{
 "cells": [
  {
   "cell_type": "markdown",
   "metadata": {},
   "source": [
    "### Plugin setup for ImJoy"
   ]
  },
  {
   "cell_type": "code",
   "execution_count": null,
   "metadata": {
    "scrolled": true
   },
   "outputs": [],
   "source": [
    "from imjoy import api\n",
    "import zarr\n",
    "\n",
    "def encode_zarr_store(zobj):\n",
    "    path_prefix = f\"{zobj.path}/\" if zobj.path else \"\"\n",
    "    def getItem(key):\n",
    "        return zobj.store[path_prefix + key]\n",
    "\n",
    "    def setItem(key, value):\n",
    "        zobj.store[path_prefix + key] = value\n",
    "\n",
    "    def containsItem(key):\n",
    "        if path_prefix + key in zobj.store:\n",
    "            return True\n",
    "\n",
    "    return {\n",
    "        \"_rintf\": True,\n",
    "        \"_rtype\": 'zarr-array' if isinstance(zobj, zarr.Array) else 'zarr-group',\n",
    "        \"getItem\": getItem,\n",
    "        \"setItem\": setItem,\n",
    "        \"containsItem\": containsItem,\n",
    "    }\n",
    "\n",
    "api.registerCodec({'name': 'zarr-array', 'type': zarr.Array, \"encoder\": encode_zarr_store})\n",
    "api.registerCodec({'name': 'zarr-group', 'type': zarr.Group, \"encoder\": encode_zarr_store})\n",
    "             \n",
    "class VivPlugin:\n",
    "    def __init__(self, images, view_state=None):\n",
    "        if not isinstance(images, list):\n",
    "            images = [images]\n",
    "        self.images = images\n",
    "        self.view_state = view_state\n",
    "        \n",
    "    async def setup(self):\n",
    "        pass\n",
    "        \n",
    "    async def run(self, ctx):\n",
    "        viewer = await api.createWindow(\n",
    "            type=\"vitessce-image-viewer-plugin\", \n",
    "            src=\"https://epic-poitras-2b80af.netlify.app/\"\n",
    "#             src=\"http://localhost:8080\"\n",
    "        )\n",
    "        if self.view_state:\n",
    "            await viewer.set_view_state(self.view_state)\n",
    "        for img in self.images:\n",
    "            await viewer.add_image(img)\n",
    "        \n",
    "def run_viv(images, view_state=None):\n",
    "    api.export(VivPlugin(images, view_state))"
   ]
  },
  {
   "cell_type": "markdown",
   "metadata": {},
   "source": [
    "### Create a multiscale OME-Zarr layer"
   ]
  },
  {
   "cell_type": "code",
   "execution_count": null,
   "metadata": {
    "scrolled": true
   },
   "outputs": [],
   "source": [
    "z_grp = zarr.open('astronaut.zarr')\n",
    "\n",
    "image = {\n",
    "    \"source\": z_grp, # z_group is for an ome-zarr that contains the multiscale metadata\n",
    "    \"opacity\": 1, # default is 1\n",
    "    \"colormap\": None, # default, can be \"viridis\", \"turbo\", see viv.vitessce.io for all options\n",
    "}"
   ]
  },
  {
   "cell_type": "markdown",
   "metadata": {},
   "source": [
    "### Create a generic array layer"
   ]
  },
  {
   "cell_type": "code",
   "execution_count": null,
   "metadata": {},
   "outputs": [],
   "source": [
    "import numpy as np\n",
    "\n",
    "# Need to add extra dim and cast to f32\n",
    "arr = np.random.rand(1024, 1024)[None,:,:].astype('f4')\n",
    "                             \n",
    "noise = {\n",
    "    \"source\": zarr.array(arr), \n",
    "    \"dimensions\": \"cyx\", # if not OME-Zarr, need to label dimensions for array\n",
    "    \"layers\": [ # Manually define list of 2D panes to additively blend\n",
    "        { \n",
    "            \"contrast_limits\": [0, 1], # required \n",
    "            \"selection\": { \"c\": 0 }, # required,\n",
    "            \"color\": \"#FFFFFF\", # optional\n",
    "            \"label\": \"noise layer\", # options, default channel_x\n",
    "        },\n",
    "    ],\n",
    "    \"opacity\": 0.5,\n",
    "}"
   ]
  },
  {
   "cell_type": "markdown",
   "metadata": {},
   "source": [
    "### Run plugin and view layers"
   ]
  },
  {
   "cell_type": "code",
   "execution_count": null,
   "metadata": {},
   "outputs": [],
   "source": [
    "run_viv([image, noise])"
   ]
  },
  {
   "cell_type": "code",
   "execution_count": null,
   "metadata": {},
   "outputs": [],
   "source": [
    "run_viv([image, noise], view_state={ \"zoom\": -3, \"target\": [512, 512, 0] })"
   ]
  },
  {
   "cell_type": "code",
   "execution_count": null,
   "metadata": {
    "scrolled": true
   },
   "outputs": [],
   "source": [
    "z = zarr.open('data/LuCa-7Color/data.zarr/')\n",
    "img = { \"source\": z.get('0') }\n",
    "run_viv(img)"
   ]
  },
  {
   "cell_type": "code",
   "execution_count": null,
   "metadata": {},
   "outputs": [],
   "source": []
  },
  {
   "cell_type": "code",
   "execution_count": null,
   "metadata": {},
   "outputs": [],
   "source": []
  }
 ],
 "metadata": {
  "kernelspec": {
   "display_name": "Python 3",
   "language": "python",
   "name": "python3"
  },
  "language_info": {
   "codemirror_mode": {
    "name": "ipython",
    "version": 3
   },
   "file_extension": ".py",
   "mimetype": "text/x-python",
   "name": "python",
   "nbconvert_exporter": "python",
   "pygments_lexer": "ipython3",
   "version": "3.8.3"
  }
 },
 "nbformat": 4,
 "nbformat_minor": 4
}
