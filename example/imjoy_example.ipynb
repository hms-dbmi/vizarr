{
 "cells": [
  {
   "cell_type": "markdown",
   "metadata": {},
   "source": [
    "### Plugin setup for ImJoy"
   ]
  },
  {
   "cell_type": "code",
   "execution_count": 101,
   "metadata": {
    "scrolled": true
   },
   "outputs": [
    {
     "name": "stdout",
     "output_type": "stream",
     "text": [
      "WARNING:JupyterConnection:Removing duplicated codec: zarr-array\n",
      "WARNING:JupyterConnection:Removing duplicated codec: zarr-group\n"
     ]
    }
   ],
   "source": [
    "from imjoy import api\n",
    "import zarr\n",
    "\n",
    "def encode_zarr_store(zobj):\n",
    "    def getItem(key):\n",
    "        return zobj.store[key]\n",
    "\n",
    "    def setItem(key, value):\n",
    "        zobj.store[key] = value\n",
    "\n",
    "    def containsItem(key):\n",
    "        if key in zobj.store:\n",
    "            return True\n",
    "\n",
    "    return {\n",
    "        \"_rintf\": True,\n",
    "        \"_rtype\": 'zarr-array' if isinstance(zobj, zarr.Array) else 'zarr-group',\n",
    "        \"getItem\": getItem,\n",
    "        \"setItem\": setItem,\n",
    "        \"containsItem\": containsItem,\n",
    "    }\n",
    "\n",
    "api.registerCodec({'name': 'zarr-array', 'type': zarr.Array, \"encoder\": encode_zarr_store})\n",
    "api.registerCodec({'name': 'zarr-group', 'type': zarr.Group, \"encoder\": encode_zarr_store})\n",
    "             \n",
    "class VivPlugin:\n",
    "    def __init__(self, images):\n",
    "        if not isinstance(images, list):\n",
    "            images = [images]\n",
    "        self.images = images\n",
    "    \n",
    "    async def setup(self):\n",
    "        pass\n",
    "        \n",
    "    async def run(self, ctx):\n",
    "        viewer = await api.createWindow(\n",
    "            type=\"vitessce-image-viewer-plugin\", \n",
    "            src=\"https://epic-poitras-2b80af.netlify.app/\"\n",
    "        )\n",
    "        for img in self.images:\n",
    "            await viewer.add_image(img)\n",
    "        \n",
    "def run_viv(image):\n",
    "    api.export(VivPlugin(image))"
   ]
  },
  {
   "cell_type": "markdown",
   "metadata": {},
   "source": [
    "### Create a multiscale OME-Zarr layer"
   ]
  },
  {
   "cell_type": "code",
   "execution_count": 102,
   "metadata": {
    "scrolled": true
   },
   "outputs": [],
   "source": [
    "z_grp = zarr.open('astronaut.zarr')\n",
    "\n",
    "image = {\n",
    "    \"source\": z_grp, # z_group is for an ome-zarr that contains the multiscale metadata\n",
    "    \"channels\": [\n",
    "        { \n",
    "            \"slider\": [0, 1], \n",
    "            \"color\": [255, 0, 0], \n",
    "            \"selection\": { \"c\": 0 } # channel 0 is red\n",
    "        },\n",
    "        { \n",
    "            \"slider\": [0, 1], \n",
    "            \"color\": [0, 255, 0], \n",
    "            \"selection\": { \"c\": 1 } # channel 1 is green\n",
    "        },\n",
    "        { \n",
    "            \"slider\": [0, 1], \n",
    "            \"color\": [0, 0, 255], \n",
    "            \"selection\": { \"c\": 2 } # channel 2 is blue\n",
    "        }\n",
    "    ],\n",
    "    \"opacity\": 1, # default is 1\n",
    "    \"colormap\": None, # default, can be \"viridis\", \"turbo\", see viv.vitessce.io for all options\n",
    "}"
   ]
  },
  {
   "cell_type": "markdown",
   "metadata": {},
   "source": [
    "### Create a generic array layer"
   ]
  },
  {
   "cell_type": "code",
   "execution_count": 103,
   "metadata": {},
   "outputs": [],
   "source": [
    "import numpy as np\n",
    "\n",
    "# Need to add extra dim and cast to f32\n",
    "arr = np.random.rand(1024, 1024)[None,:,:].astype('f4')\n",
    "                             \n",
    "noise = {\n",
    "    \"source\": z_arr, \n",
    "    \"dimensions\": \"cyx\", # if not OME-Zarr, need to specify dimensions for array\n",
    "    \"channels\": [\n",
    "        { \n",
    "            \"slider\": [0, 1], \n",
    "            \"color\": [255, 255, 255], \n",
    "            \"selection\": { \"c\": 0 } # channel 0 is red\n",
    "        },\n",
    "    ],\n",
    "    \"opacity\": 0.5,\n",
    "}"
   ]
  },
  {
   "cell_type": "markdown",
   "metadata": {},
   "source": [
    "### Run plugin and view layers"
   ]
  },
  {
   "cell_type": "code",
   "execution_count": 104,
   "metadata": {},
   "outputs": [
    {
     "data": {
      "application/javascript": [
       "window.connectPlugin && window.connectPlugin()"
      ],
      "text/plain": [
       "<IPython.core.display.Javascript object>"
      ]
     },
     "metadata": {},
     "output_type": "display_data"
    },
    {
     "data": {
      "text/html": [
       "<div id=\"f626bae9-832e-4b00-9372-70b9bad54515\"></div>"
      ],
      "text/plain": [
       "<IPython.core.display.HTML object>"
      ]
     },
     "metadata": {},
     "output_type": "display_data"
    }
   ],
   "source": [
    "run_viv([image, noise])"
   ]
  },
  {
   "cell_type": "code",
   "execution_count": null,
   "metadata": {},
   "outputs": [],
   "source": []
  }
 ],
 "metadata": {
  "kernelspec": {
   "display_name": "Python 3",
   "language": "python",
   "name": "python3"
  },
  "language_info": {
   "codemirror_mode": {
    "name": "ipython",
    "version": 3
   },
   "file_extension": ".py",
   "mimetype": "text/x-python",
   "name": "python",
   "nbconvert_exporter": "python",
   "pygments_lexer": "ipython3",
   "version": "3.8.3"
  }
 },
 "nbformat": 4,
 "nbformat_minor": 4
}
