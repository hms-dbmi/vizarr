{
 "cells": [
  {
   "cell_type": "markdown",
   "metadata": {},
   "source": [
    "# Setup\n",
    "\n",
    "Before start, please make sure you have all the dependencies installed."
   ]
  },
  {
   "cell_type": "code",
   "execution_count": null,
   "metadata": {},
   "outputs": [],
   "source": [
    "!pip install -U imjoy zarr scikit-image fsspec aiohttp"
   ]
  },
  {
   "cell_type": "markdown",
   "metadata": {},
   "source": [
    "If you are running inside **Google Colab**, please also run the following cell.\n",
    "\n",
    "(Skip for Jupyter notebooks)"
   ]
  },
  {
   "cell_type": "code",
   "execution_count": null,
   "metadata": {
    "tags": []
   },
   "outputs": [],
   "source": [
    "!git clone https://github.com/hms-dbmi/vizarr\n",
    "import os\n",
    "os.chdir('vizarr/example')"
   ]
  },
  {
   "cell_type": "markdown",
   "metadata": {},
   "source": [
    "## Zoomable Mandelbrot Set\n",
    "\n",
    "This notebook a contains `vizarr` example visualizing a generic multiscale zarr. The first cell contains code to create the underlying generatvie zarr store. It dynamically creates \"chunks\" at different zoom levels and associated array metadata."
   ]
  },
  {
   "cell_type": "code",
   "execution_count": null,
   "metadata": {},
   "outputs": [],
   "source": [
    "import numpy as np\n",
    "from numba import njit\n",
    "from zarr.util import json_dumps\n",
    "\n",
    "ZARR_FORMAT = 2\n",
    "ZARR_META_KEY = \".zattrs\"\n",
    "ZARR_ARRAY_META_KEY = \".zarray\"\n",
    "ZARR_GROUP_META_KEY = \".zgroup\"\n",
    "ZARR_GROUP_META = {\"zarr_format\": ZARR_FORMAT}\n",
    "\n",
    "\n",
    "def create_array_meta(shape, chunks, compressor, dtype):\n",
    "    return {\n",
    "        \"chunks\": chunks,\n",
    "        \"compressor\": compressor.get_config() if compressor else None,\n",
    "        \"dtype\": dtype.str,\n",
    "        \"fill_value\": 0.0,\n",
    "        \"filters\": None,\n",
    "        \"order\": \"C\",\n",
    "        \"shape\": shape,\n",
    "        \"zarr_format\": ZARR_FORMAT,\n",
    "    }\n",
    "\n",
    "\n",
    "def create_root_attrs(levels):\n",
    "    datasets = [{\"path\": str(i)} for i in range(levels)]\n",
    "    return {\"multiscales\": [{\"datasets\": datasets, \"version\": \"0.1\"}]}\n",
    "\n",
    "\n",
    "@njit\n",
    "def mandelbrot(out, from_x, from_y, to_x, to_y, grid_size, maxiter):\n",
    "    step_x = (to_x - from_x) / grid_size\n",
    "    step_y = (to_y - from_y) / grid_size\n",
    "    creal = from_x\n",
    "    cimag = from_y\n",
    "    for i in range(grid_size):\n",
    "        cimag = from_y\n",
    "        for j in range(grid_size):\n",
    "            nreal = real = imag = n = 0\n",
    "            for _ in range(maxiter):\n",
    "                nreal = real * real - imag * imag + creal\n",
    "                imag = 2 * real * imag + cimag\n",
    "                real = nreal\n",
    "                if real * real + imag * imag > 4.0:\n",
    "                    break\n",
    "                n += 1\n",
    "            out[j * grid_size + i] = n\n",
    "            cimag += step_y\n",
    "        creal += step_x\n",
    "    return out\n",
    "\n",
    "\n",
    "@njit\n",
    "def tile_bounds(level, x, y, max_level, min_coord=-2.5, max_coord=2.5):\n",
    "    max_width = max_coord - min_coord\n",
    "    tile_width = max_width / 2 ** (max_level - level)\n",
    "    from_x = min_coord + x * tile_width\n",
    "    to_x = min_coord + (x + 1) * tile_width\n",
    "\n",
    "    from_y = min_coord + y * tile_width\n",
    "    to_y = min_coord + (y + 1) * tile_width\n",
    "\n",
    "    return from_x, from_y, to_x, to_y\n",
    "\n",
    "\n",
    "class MandlebrotStore:\n",
    "    def __init__(self, levels, tilesize, maxiter=255, compressor=None):\n",
    "        self.levels = levels\n",
    "        self.tilesize = tilesize\n",
    "        self.compressor = compressor\n",
    "        self.dtype = np.dtype(np.uint8 if maxiter < 256 else np.uint16)\n",
    "        self.maxiter = maxiter\n",
    "        self._store = self._init_store()\n",
    "\n",
    "    def __getitem__(self, key):\n",
    "        if key in self._store:\n",
    "            return self._store[key]\n",
    "\n",
    "        try:\n",
    "            # Try parsing pyramidal coords\n",
    "            level, chunk_key = key.split(\"/\")\n",
    "            level = int(level)\n",
    "            y, x = map(int, chunk_key.split(\".\"))\n",
    "        except:\n",
    "            raise KeyError\n",
    "\n",
    "        from_x, from_y, to_x, to_y = tile_bounds(level, x, y, self.levels)\n",
    "        out = np.zeros(self.tilesize * self.tilesize, dtype=self.dtype)\n",
    "        tile = mandelbrot(out, from_x, from_y, to_x, to_y, self.tilesize, self.maxiter)\n",
    "\n",
    "        dbytes = tile.tobytes()\n",
    "\n",
    "        if self.compressor:\n",
    "            return self.compressor.encode(dbytes)\n",
    "\n",
    "        return dbytes\n",
    "\n",
    "    def _init_store(self):\n",
    "        d = dict()\n",
    "        base_width = self.tilesize * 2 ** self.levels\n",
    "        d[ZARR_GROUP_META_KEY] = json_dumps(ZARR_GROUP_META)\n",
    "        d[ZARR_META_KEY] = json_dumps(create_root_attrs(self.levels))\n",
    "\n",
    "        for level in range(self.levels):\n",
    "            width = int(base_width / 2 ** level)\n",
    "            array_meta = create_array_meta(\n",
    "                shape=(width, width),\n",
    "                chunks=(self.tilesize, self.tilesize),\n",
    "                compressor=self.compressor,\n",
    "                dtype=self.dtype,\n",
    "            )\n",
    "            d[f\"{level}/{ZARR_ARRAY_META_KEY}\"] = json_dumps(array_meta)\n",
    "\n",
    "        return d\n",
    "\n",
    "    def keys(self):\n",
    "        return self._store.keys()\n",
    "\n",
    "    def __iter__(self):\n",
    "        return iter(self._store)"
   ]
  },
  {
   "cell_type": "markdown",
   "metadata": {},
   "source": [
    "### Running vizarr\n",
    "\n",
    "Simply initalize the multiscale store implemented above, and open as a `zarr.Group` for vizarr. "
   ]
  },
  {
   "cell_type": "code",
   "execution_count": null,
   "metadata": {},
   "outputs": [],
   "source": [
    "from imjoy_plugin import run_vizarr\n",
    "from numcodecs import Blosc\n",
    "import zarr\n",
    "\n",
    "# Initialize the store\n",
    "store = MandlebrotStore(levels=40, tilesize=1024, compressor=Blosc())\n",
    "# Wrap in a cache so that tiles don't need to be computed as often\n",
    "store = zarr.LRUStoreCache(store, max_size=2 ** 38)\n",
    "\n",
    "# This store implements the 'multiscales' zarr specfiication which is recognized by vizarr\n",
    "z_grp = zarr.open(store, mode=\"r\")\n",
    "\n",
    "img = { \"source\": z_grp, \"name\": \"mandelbrot\" }\n",
    "\n",
    "run_vizarr(img)"
   ]
  }
 ],
 "metadata": {
  "kernelspec": {
   "display_name": "Python 3",
   "language": "python",
   "name": "python3"
  },
  "language_info": {
   "codemirror_mode": {
    "name": "ipython",
    "version": 3
   },
   "file_extension": ".py",
   "mimetype": "text/x-python",
   "name": "python",
   "nbconvert_exporter": "python",
   "pygments_lexer": "ipython3",
   "version": "3.8.5"
  }
 },
 "nbformat": 4,
 "nbformat_minor": 4
}