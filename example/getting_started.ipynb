{
 "cells": [
  {
   "cell_type": "markdown",
   "metadata": {},
   "source": [
    "# Hello, `vizarr`\n",
    "\n",
    "This example explains the basic usage of `vizarr` as an Imjoy Plugin in a jupyter notebook. "
   ]
  },
  {
   "cell_type": "markdown",
   "metadata": {},
   "source": [
    "### Create a multiscale OME-Zarr\n",
    "\n",
    "The easiest way to use `vizarr` in a jupyter notebook is to have an OME-Zarr compliant image. OME-Zarr is a developing standard from the OME-Community and currently considered experimental as it is under active development. The specification can be found [here](https://github.com/ome/omero-ms-zarr/blob/master/spec.md). \n",
    " \n",
    "Creating an OME-Zarr for your own images can be accomplished by using Bio-Formats, `bioformats2raw` with the `--file_type=zarr --dimension-order=XYZCT` options and adding `omero` metadata to the root attrs of the resulting multiscale group. \n",
    "\n",
    "For convenience, we have included a simple function to create a multiscale OME-Zarr below."
   ]
  },
  {
   "cell_type": "code",
   "execution_count": 1,
   "metadata": {},
   "outputs": [],
   "source": [
    "from create_fixture import create_ome_zarr\n",
    "create_ome_zarr(\"astronaut.zarr\") # creates an example OME-Zarr in the current directory"
   ]
  },
  {
   "cell_type": "markdown",
   "metadata": {},
   "source": [
    "### Open OME-Zarr in jupyter with `zarr-python`\n",
    "\n",
    "The root of an OME-Zarr is a group that aheres to the `multiscales` zarr extension (if pyramidal) and also contains `omero` metadata describing _how_ to render the image. Here we open the OME-Zarr as a `zarr.Group` using `zarr-python`. "
   ]
  },
  {
   "cell_type": "code",
   "execution_count": 2,
   "metadata": {},
   "outputs": [],
   "source": [
    "import zarr\n",
    "multiscale_astronaut = zarr.open(\"astronaut.zarr\", mode=\"r\") # open the zarr created above in jupyter kernel"
   ]
  },
  {
   "cell_type": "markdown",
   "metadata": {},
   "source": [
    "### Create `vizarr` image and view via Imjoy Plugin\n",
    "\n",
    "A `vizarr` image is simply a python dictionary specifying how to initially render the zarr-based store in the viewer. The `source` field must be a `zarr.Array` or `zarr.Group`. If the `zarr.Group` is for an OME-Zarr, `source` is the only required field. If it is an `zarr.Array` or `zarr.Group` that is not OME-Zarr, additional fields are required for rendering (described below)."
   ]
  },
  {
   "cell_type": "code",
   "execution_count": 3,
   "metadata": {
    "scrolled": true
   },
   "outputs": [
    {
     "name": "stdout",
     "output_type": "stream",
     "text": [
      "INFO:ImJoy-RPC:Using jupyter connection for imjoy-rpc\n"
     ]
    },
    {
     "data": {
      "application/javascript": [
       "window.connectPlugin && window.connectPlugin()"
      ],
      "text/plain": [
       "<IPython.core.display.Javascript object>"
      ]
     },
     "metadata": {},
     "output_type": "display_data"
    },
    {
     "data": {
      "text/html": [
       "<div id=\"130b397c-99ac-4483-a4e3-9c7efa27c2c9\"></div>"
      ],
      "text/plain": [
       "<IPython.core.display.HTML object>"
      ]
     },
     "metadata": {},
     "output_type": "display_data"
    }
   ],
   "source": [
    "from imjoy_plugin import run_vizarr\n",
    "\n",
    "# Create Zarr \n",
    "astronaut_img = { \"source\": multiscale_astronaut, \"name\": \"astronaut\" }\n",
    "\n",
    "# Run vizarr\n",
    "run_vizarr(astronaut_img)"
   ]
  },
  {
   "cell_type": "markdown",
   "metadata": {},
   "source": [
    "### Create a generic array layer\n",
    "\n",
    "`vizarr` also supports custom `zarr.Array` and `zarr.Group`s, but requires additional metadata to render. Viewing a custom `zarr` has the following requirements:\n",
    "\n",
    "- The last two dimensions of the `zarr.Array` must be `YX`.\n",
    "- If an `zarr.Array` has more than 2D dimensions, non-YX axis much have a `chunksize` of `1`.\n",
    "- If a `zarr.Group` is provided, it must implement the `multiscales` specification and subresolution arrays must adhere to the same `zarr.Array` requirements outlined above."
   ]
  },
  {
   "cell_type": "code",
   "execution_count": 4,
   "metadata": {},
   "outputs": [],
   "source": [
    "import numpy as np\n",
    "\n",
    "# Create in-memory numpy array\n",
    "arr = np.random.randint(0, 255, (1024, 1024), dtype=np.uint8)\n",
    "\n",
    "# Wrap array as `zarr.Array`\n",
    "z_zarr = zarr.array(arr)\n",
    "\n",
    "# Create a vizarr image from custom zarr.Array\n",
    "noise = {\n",
    "    \"source\": zarr.array(arr), \n",
    "    \"opacity\": 0.5,   # optional, default 1\n",
    "    \"name\": \"noise\",  # optional, default image_x\n",
    "}"
   ]
  },
  {
   "cell_type": "markdown",
   "metadata": {},
   "source": [
    "### View multiple images\n",
    "\n",
    "`run_vizarr` takes a list of images which can be viewed in the same interactive scene as different image layers."
   ]
  },
  {
   "cell_type": "code",
   "execution_count": 5,
   "metadata": {
    "scrolled": true
   },
   "outputs": [
    {
     "data": {
      "application/javascript": [
       "window.connectPlugin && window.connectPlugin()"
      ],
      "text/plain": [
       "<IPython.core.display.Javascript object>"
      ]
     },
     "metadata": {},
     "output_type": "display_data"
    },
    {
     "data": {
      "text/html": [
       "<div id=\"1063729b-ba22-4998-94d3-f187c23d9b5c\"></div>"
      ],
      "text/plain": [
       "<IPython.core.display.HTML object>"
      ]
     },
     "metadata": {},
     "output_type": "display_data"
    }
   ],
   "source": [
    "run_vizarr([astronaut_img, noise])"
   ]
  },
  {
   "cell_type": "markdown",
   "metadata": {},
   "source": [
    "### Use `channel_axis` to choose axis to additively blend\n",
    "\n",
    "Vizarr was designed to support viewing a subset of multiscale OME-Zarr images, but it can support blending 2D slices of generic `zarr.Array`s. For a `zarr.Array` with more than 2 dimensions, a `channel_axis` must be specified to tell vizarr which dimension to split into separate blended channels. \n",
    "\n",
    "Here we will load one of the sub-resolution `zarr.Array`s from the OME-Zarr we created and view it with Vizarr."
   ]
  },
  {
   "cell_type": "code",
   "execution_count": 6,
   "metadata": {},
   "outputs": [
    {
     "data": {
      "text/plain": [
       "(1, 3, 1, 512, 512)"
      ]
     },
     "execution_count": 6,
     "metadata": {},
     "output_type": "execute_result"
    }
   ],
   "source": [
    "z_arr = zarr.open('astronaut.zarr').get('1')\n",
    "z_arr.shape"
   ]
  },
  {
   "cell_type": "markdown",
   "metadata": {},
   "source": [
    "The channel axis for an OME-Zarr is always `1`, but loading the image with a different channel axis will load a single plane."
   ]
  },
  {
   "cell_type": "code",
   "execution_count": 7,
   "metadata": {},
   "outputs": [
    {
     "data": {
      "application/javascript": [
       "window.connectPlugin && window.connectPlugin()"
      ],
      "text/plain": [
       "<IPython.core.display.Javascript object>"
      ]
     },
     "metadata": {},
     "output_type": "display_data"
    },
    {
     "data": {
      "text/html": [
       "<div id=\"5146cb8c-d7d1-491d-91cf-f254f3af7243\"></div>"
      ],
      "text/plain": [
       "<IPython.core.display.HTML object>"
      ]
     },
     "metadata": {},
     "output_type": "display_data"
    }
   ],
   "source": [
    "run_vizarr({ \"source\": z_arr, \"channel_axis\": 0 }) # first dim is size 1"
   ]
  },
  {
   "cell_type": "markdown",
   "metadata": {},
   "source": [
    "You can specify other rendering properties to tell vizarr how to render the channels along the specified axis."
   ]
  },
  {
   "cell_type": "code",
   "execution_count": 8,
   "metadata": {},
   "outputs": [
    {
     "data": {
      "application/javascript": [
       "window.connectPlugin && window.connectPlugin()"
      ],
      "text/plain": [
       "<IPython.core.display.Javascript object>"
      ]
     },
     "metadata": {},
     "output_type": "display_data"
    },
    {
     "data": {
      "text/html": [
       "<div id=\"61d9bdf4-cd9b-4900-8f44-4cd115be43c0\"></div>"
      ],
      "text/plain": [
       "<IPython.core.display.HTML object>"
      ]
     },
     "metadata": {},
     "output_type": "display_data"
    }
   ],
   "source": [
    "alt_img = {\n",
    "    \"source\": z_arr,\n",
    "    \"name\": \"CYM astronaut\", # Image name\n",
    "    \"channel_axis\": 1, # size == 3, lists below must be of same length if provided\n",
    "    \"colors\": [\"#FFFF00\", \"#FF00FF\", \"#00FFFF\"],   # optional\n",
    "    \"names\": [\"yellow\", \"magenta\", \"cyan\"],        # optional, default channel_X\n",
    "    \"visibilities\": [True, False, True],           # optional, default True\n",
    "    \"contrast_limits\": [[0, 1] for _ in range(3)], # optional, but recommended\n",
    "}\n",
    "run_vizarr(alt_img)"
   ]
  }
 ],
 "metadata": {
  "kernelspec": {
   "display_name": "Python 3",
   "language": "python",
   "name": "python3"
  },
  "language_info": {
   "codemirror_mode": {
    "name": "ipython",
    "version": 3
   },
   "file_extension": ".py",
   "mimetype": "text/x-python",
   "name": "python",
   "nbconvert_exporter": "python",
   "pygments_lexer": "ipython3",
   "version": "3.8.5"
  }
 },
 "nbformat": 4,
 "nbformat_minor": 4
}
